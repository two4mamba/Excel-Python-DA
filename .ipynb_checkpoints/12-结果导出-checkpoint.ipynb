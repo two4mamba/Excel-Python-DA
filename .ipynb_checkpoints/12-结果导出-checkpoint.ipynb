{
 "cells": [
  {
   "cell_type": "markdown",
   "metadata": {
    "toc": true
   },
   "source": [
    "<h1>Table of Contents<span class=\"tocSkip\"></span></h1>\n",
    "<div class=\"toc\"><ul class=\"toc-item\"><li><span><a href=\"#12-结果导出\" data-toc-modified-id=\"12-结果导出-1\">12 - 结果导出</a></span><ul class=\"toc-item\"><li><span><a href=\"#12.1-导出为.xlsx文件\" data-toc-modified-id=\"12.1-导出为.xlsx文件-1.1\">12.1 导出为.xlsx 文件</a></span><ul class=\"toc-item\"><li><span><a href=\"#12.1.1-设置文件导出路径\" data-toc-modified-id=\"12.1.1-设置文件导出路径-1.1.1\">12.1.1 设置文件导出路径</a></span></li><li><span><a href=\"#12.1.2-设置Sheet名称\" data-toc-modified-id=\"12.1.2-设置Sheet名称-1.1.2\">12.1.2 设置 Sheet 名称</a></span></li><li><span><a href=\"#12.1.3-设置索引\" data-toc-modified-id=\"12.1.3-设置索引-1.1.3\">12.1.3 设置索引</a></span></li><li><span><a href=\"#12.1.4-设置要导出的列\" data-toc-modified-id=\"12.1.4-设置要导出的列-1.1.4\">12.1.4 设置要导出的列</a></span></li><li><span><a href=\"#12.1.5-设置编码格式\" data-toc-modified-id=\"12.1.5-设置编码格式-1.1.5\">12.1.5 设置编码格式</a></span></li><li><span><a href=\"#12.1.6-缺失值处理\" data-toc-modified-id=\"12.1.6-缺失值处理-1.1.6\">12.1.6 缺失值处理</a></span></li><li><span><a href=\"#12.1.7-无穷值处理\" data-toc-modified-id=\"12.1.7-无穷值处理-1.1.7\">12.1.7 无穷值处理</a></span></li></ul></li><li><span><a href=\"#12.2-导出为.csv文件\" data-toc-modified-id=\"12.2-导出为.csv文件-1.2\">12.2 导出为.csv 文件</a></span><ul class=\"toc-item\"><li><span><a href=\"#12.2.1-设置文件导出路径\" data-toc-modified-id=\"12.2.1-设置文件导出路径-1.2.1\">12.2.1 设置文件导出路径</a></span></li><li><span><a href=\"#12.2.2-设置索引\" data-toc-modified-id=\"12.2.2-设置索引-1.2.2\">12.2.2 设置索引</a></span></li><li><span><a href=\"#12.2.3-设置要导出的列\" data-toc-modified-id=\"12.2.3-设置要导出的列-1.2.3\">12.2.3 设置要导出的列</a></span></li><li><span><a href=\"#12.2.4-设置分隔符号\" data-toc-modified-id=\"12.2.4-设置分隔符号-1.2.4\">12.2.4 设置分隔符号</a></span></li><li><span><a href=\"#12.2.5-缺失值处理\" data-toc-modified-id=\"12.2.5-缺失值处理-1.2.5\">12.2.5 缺失值处理</a></span></li><li><span><a href=\"#12.2.6-设置编码格式\" data-toc-modified-id=\"12.2.6-设置编码格式-1.2.6\">12.2.6 设置编码格式</a></span></li></ul></li><li><span><a href=\"#12.3-将文件导出到多个Sheet\" data-toc-modified-id=\"12.3-将文件导出到多个Sheet-1.3\">12.3 将文件导出到多个 Sheet</a></span></li></ul></li></ul></div>"
   ]
  },
  {
   "cell_type": "markdown",
   "metadata": {},
   "source": [
    "# 12-结果导出"
   ]
  },
  {
   "cell_type": "markdown",
   "metadata": {},
   "source": [
    "## 12.1 导出为.xlsx文件"
   ]
  },
  {
   "cell_type": "markdown",
   "metadata": {},
   "source": [
    "在Pandas中将文件导出为`.xlsx`格式，用到的是`df.to_excel()`方法，接下来的几个小节具体讲解`to_excel()`方法"
   ]
  },
  {
   "cell_type": "markdown",
   "metadata": {},
   "source": [
    "### 12.1.1 设置文件导出路径"
   ]
  },
  {
   "cell_type": "markdown",
   "metadata": {},
   "source": [
    "参数`excel_writer`设置文件导出路径.\n",
    "```python\n",
    "df.to_excel(excel_writer = r'data\\test1.xlsx')\n",
    "```\n",
    "上面代码表示将df导出到当前data目录下，并将导出文件命名为test1.xlsx."
   ]
  },
  {
   "cell_type": "markdown",
   "metadata": {},
   "source": [
    "需要注意的是，如果同一导出文件已经在本地打开，则不能再次运行导出代码，会报错，需要将本地文件关闭以后再次运行导出代码."
   ]
  },
  {
   "cell_type": "markdown",
   "metadata": {},
   "source": [
    "### 12.1.2 设置Sheet名称"
   ]
  },
  {
   "cell_type": "markdown",
   "metadata": {},
   "source": [
    "参数`sheet_name`设置导出Excel文件的sheet名。如下代码：\n",
    "```python\n",
    "df.to_excel(excel_writer = r'data\\测试文档.xlsx',sheet_name = '测试文档')\n",
    "```\n",
    "运行上面代码以后，导出到本地文件的Sheet名字将从原来的Sheet1变成测试文档。"
   ]
  },
  {
   "cell_type": "markdown",
   "metadata": {},
   "source": [
    "### 12.1.3 设置索引"
   ]
  },
  {
   "cell_type": "markdown",
   "metadata": {},
   "source": [
    "默认索引都是从0开始的自然数，这种索引没什么实际意义，可以省略，**设置参数`index=False`就可以在导出时把这种索引去掉**。\n",
    "```\n",
    "df.to_excel(excel_writer = r'data\\测试文档.xlsx',sheet_name = '测试文档',index=False)\n",
    "```\n",
    "上面代码运行的结果如下图所示，从0开始的自然数索引没有被展示出来。"
   ]
  },
  {
   "cell_type": "markdown",
   "metadata": {},
   "source": [
    "### 12.1.4 设置要导出的列"
   ]
  },
  {
   "cell_type": "markdown",
   "metadata": {},
   "source": [
    "有的时候一个表的列数很多，我们并不需要把所有的列都导出,**通过设置`columns`参数可以指定要导出的列**,这和导入时设置只导入部分列的原理类似。\n",
    "```python\n",
    "df.to_excel(excel_writer = r'data\\测试文档.xlsx',sheet_name = '测试文档',index=False,columns = ['用户ID','7月销量','8月销量'])\n",
    "```\n",
    "上面代码则只导出用户ID、7月销量、8月销量三列."
   ]
  },
  {
   "cell_type": "markdown",
   "metadata": {},
   "source": [
    "### 12.1.5 设置编码格式"
   ]
  },
  {
   "cell_type": "markdown",
   "metadata": {},
   "source": [
    "我们在导入文件时需要设置编码格式，导出文件的时候同样也需要,**也使用的`encoding`参数设置导出文件的编码格式**.\n",
    "```python\n",
    "df.to_excel(excel_writer = r'data\\测试文档.xlsx',sheet_name = '测试文档',encoding='utf-8')\n",
    "```"
   ]
  },
  {
   "cell_type": "markdown",
   "metadata": {},
   "source": [
    "### 12.1.6 缺失值处理"
   ]
  },
  {
   "cell_type": "markdown",
   "metadata": {},
   "source": [
    "通过设置参数`na_rep`，可以在导出的时候，填充在数据分析过程中产生的缺失值。\n",
    "```python\n",
    "df.to_excel(excel_writer = r'data\\测试文档.xlsx',sheet_name = '测试文档',encoding='utf-8',na_rep = 0)\n",
    "```\n",
    "以上代码表示将缺失值用0填充."
   ]
  },
  {
   "cell_type": "markdown",
   "metadata": {},
   "source": [
    "### 12.1.7 无穷值处理"
   ]
  },
  {
   "cell_type": "markdown",
   "metadata": {},
   "source": [
    "无穷值（inf）与缺失值（Nan）都是异常数据，当你用一个浮点数除以0时，就会得到一个无穷值，无穷值的存在会导致接下来的计算报错，所以需要对无穷值进行处理。\n",
    "\n",
    "可以通过下面这种方式生成正无穷值与负无穷值:\n",
    "```python\n",
    "float(inf)\n",
    "float(-inf)\n",
    "```\n",
    "下面的数据表中含有inf值，**要把inf值替换掉，就要设置参数`inf_rep`的值**,把inf_rep的值填充为0,代码如下：\n",
    "```python\n",
    "df.to_excel(excel_writer = r'data\\测试文档.xlsx',\n",
    "            sheet_name = '测试文档',\n",
    "            encoding='utf-8',\n",
    "            na_rep = 0,\n",
    "           inf_rep = 0)\n",
    "```"
   ]
  },
  {
   "cell_type": "markdown",
   "metadata": {},
   "source": [
    "## 12.2 导出为.csv文件"
   ]
  },
  {
   "cell_type": "markdown",
   "metadata": {},
   "source": [
    "在Pandas中，将文件导出为.csv文件使用的是`to_csv`方法，接下来的几个小节具体讲解`to_csv`方法的一些参数."
   ]
  },
  {
   "cell_type": "markdown",
   "metadata": {},
   "source": [
    "### 12.2.1 设置文件导出路径"
   ]
  },
  {
   "cell_type": "markdown",
   "metadata": {},
   "source": [
    "**.csv文件的导出路径需通过`path_or_buf`参数来设置**\n",
    "```python\n",
    "df.to_csv(path_or_buf = r'data\\导出文档.csv')\n",
    "```\n",
    "注意，导出文件同样不能打开."
   ]
  },
  {
   "cell_type": "markdown",
   "metadata": {},
   "source": [
    "### 12.2.2 设置索引"
   ]
  },
  {
   "cell_type": "markdown",
   "metadata": {},
   "source": [
    "同`to_excel()`方法一样，也是通过设置`index`参数实现"
   ]
  },
  {
   "cell_type": "markdown",
   "metadata": {},
   "source": [
    "### 12.2.3 设置要导出的列"
   ]
  },
  {
   "cell_type": "markdown",
   "metadata": {},
   "source": [
    "同 `to_excel()` 方法一样，也是通过设置 `columns` 参数实现"
   ]
  },
  {
   "cell_type": "markdown",
   "metadata": {},
   "source": [
    "### 12.2.4 设置分隔符号"
   ]
  },
  {
   "cell_type": "markdown",
   "metadata": {},
   "source": [
    "**用参数`sep`来指明要用的分隔符号**,裳用的分隔符号有：空格、制表符(\\t),分号(;)，逗号(,)。"
   ]
  },
  {
   "cell_type": "markdown",
   "metadata": {},
   "source": [
    "### 12.2.5 缺失值处理"
   ]
  },
  {
   "cell_type": "markdown",
   "metadata": {},
   "source": [
    "同 `to_excel()` 方法一样，也是通过设置 `na_rep` 参数实现"
   ]
  },
  {
   "cell_type": "markdown",
   "metadata": {},
   "source": [
    "### 12.2.6 设置编码格式"
   ]
  },
  {
   "cell_type": "markdown",
   "metadata": {},
   "source": [
    "同 `to_excel()` 方法一样，也是通过设置 `encoding` 参数实现.\n",
    "\n",
    "导出为.csv文件时，默认编码为UTF-8，**如果使用默认的UTF-8编码格式，导出的文件在本地电脑打开以后中文会乱码，所以一般使用utf-8-sig或者gbk编码**"
   ]
  },
  {
   "cell_type": "markdown",
   "metadata": {},
   "source": [
    "## 12.3 将文件导出到多个Sheet"
   ]
  },
  {
   "cell_type": "markdown",
   "metadata": {},
   "source": [
    "有的时候一个脚本一次会生成多个文件，可以将多个文件分别导出成多个文件，也可以将多个文件放在一个文件的不同 Sheet 中，**这个时\n",
    "候要用 ExcelWriter()函数将多个文件分别导出到不同Sheet中**,方法如下："
   ]
  },
  {
   "cell_type": "code",
   "execution_count": 3,
   "metadata": {},
   "outputs": [],
   "source": [
    "df1 = pd.DataFrame({'A': ['A0', 'A1', 'A2', 'A3'],\n",
    "                    'B': ['B0', 'B1', 'B2', 'B3'],\n",
    "                    'C': ['C0', 'C1', 'C2', 'C3'],\n",
    "                    'D': ['D0', 'D1', 'D2', 'D3']},\n",
    "                    index=[0, 1, 2, 3])\n",
    "\n",
    "df2 = pd.DataFrame({'A': ['A4', 'A5', 'A6', 'A7'],\n",
    "                    'B': ['B4', 'B5', 'B6', 'B7'],\n",
    "                    'C': ['C4', 'C5', 'C6', 'C7'],\n",
    "                    'D': ['D4', 'D5', 'D6', 'D7']},\n",
    "                     index=[4, 5, 6, 7])\n",
    "\n",
    "df3 = pd.DataFrame({'A': ['A8', 'A9', 'A10', 'A11'],\n",
    "                    'B': ['B8', 'B9', 'B10', 'B11'],\n",
    "                    'C': ['C8', 'C9', 'C10', 'C11'],\n",
    "                    'D': ['D8', 'D9', 'D10', 'D11']},\n",
    "                    index=[8, 9, 10, 11])"
   ]
  },
  {
   "cell_type": "code",
   "execution_count": 8,
   "metadata": {},
   "outputs": [],
   "source": [
    "import pandas as pd\n",
    "excelpath = 'data\\导出多sheet.xlsx'\n",
    "writer = pd.ExcelWriter(excelpath,engine='xlsxwriter')\n",
    "\n",
    "df1.to_excel(writer,sheet_name='表1',index=False)\n",
    "df2.to_excel(writer,sheet_name='表2',index=False)\n",
    "df3.to_excel(writer,sheet_name='表3',index=False)\n",
    "\n",
    "writer.save()"
   ]
  }
 ],
 "metadata": {
  "kernelspec": {
   "display_name": "Python 3",
   "language": "python",
   "name": "python3"
  },
  "language_info": {
   "codemirror_mode": {
    "name": "ipython",
    "version": 3
   },
   "file_extension": ".py",
   "mimetype": "text/x-python",
   "name": "python",
   "nbconvert_exporter": "python",
   "pygments_lexer": "ipython3",
   "version": "3.6.0"
  },
  "toc": {
   "base_numbering": 1,
   "nav_menu": {},
   "number_sections": false,
   "sideBar": true,
   "skip_h1_title": false,
   "title_cell": "Table of Contents",
   "title_sidebar": "Contents",
   "toc_cell": true,
   "toc_position": {},
   "toc_section_display": true,
   "toc_window_display": true
  }
 },
 "nbformat": 4,
 "nbformat_minor": 2
}
